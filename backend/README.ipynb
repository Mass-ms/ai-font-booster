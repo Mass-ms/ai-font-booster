{
 "cells": [
  {
   "cell_type": "markdown",
   "metadata": {},
   "source": [
    "# 実行"
   ]
  },
  {
   "cell_type": "code",
   "execution_count": null,
   "metadata": {},
   "outputs": [],
   "source": [
    "!uvicorn main:app --reload"
   ]
  },
  {
   "cell_type": "code",
   "execution_count": null,
   "metadata": {},
   "outputs": [],
   "source": [
    "import requests\n",
    "\n",
    "# バックエンドサーバーのURL（FastAPIが動作しているURL）\n",
    "url = \"http://127.0.0.1:50113/merge-fonts/\"\n",
    "\n",
    "# テスト用のフォントファイルのパスを設定\n",
    "font1_path = \"/usr/share/fonts/truetype/fonts-japanese-gothic.ttf\"\n",
    "font2_path = \"/usr/share/fonts/truetype/fonts-japanese-mincho.ttf\"\n",
    "\n",
    "# マルチパートフォームデータとしてファイルを準備\n",
    "files = {\n",
    "    \"font1\": (font1_path, open(font1_path, \"rb\"), \"font/ttf\"),\n",
    "    \"font2\": (font2_path, open(font2_path, \"rb\"), \"font/ttf\"),\n",
    "}\n",
    "\n",
    "# POSTリクエストを送信\n",
    "response = requests.post(url, files=files)\n",
    "\n",
    "# 応答を確認\n",
    "if response.status_code == 200:\n",
    "    # マージされたフォントファイルを保存\n",
    "    with open(\"merged_font.ttf\", \"wb\") as f:\n",
    "        f.write(response.content)\n",
    "    print(\"マージされたフォントファイルが正常に保存されました。\")\n",
    "else:\n",
    "    print(f\"エラー発生: ステータスコード {response.status_code}\")\n",
    "\n",
    "# オープンしたファイルをクローズ\n",
    "files[\"font1\"][1].close()\n",
    "files[\"font2\"][1].close()"
   ]
  }
 ],
 "metadata": {
  "kernelspec": {
   "display_name": "Python 3",
   "language": "python",
   "name": "python3"
  },
  "language_info": {
   "codemirror_mode": {
    "name": "ipython",
    "version": 3
   },
   "file_extension": ".py",
   "mimetype": "text/x-python",
   "name": "python",
   "nbconvert_exporter": "python",
   "pygments_lexer": "ipython3",
   "version": "3.8.10"
  }
 },
 "nbformat": 4,
 "nbformat_minor": 2
}
